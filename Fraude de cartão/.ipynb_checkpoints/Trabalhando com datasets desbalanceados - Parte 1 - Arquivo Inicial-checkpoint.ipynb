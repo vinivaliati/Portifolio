{
 "cells": [
  {
   "cell_type": "markdown",
   "id": "e2778593",
   "metadata": {},
   "source": [
    "# Trabalhando com datasets desbalanceados\n",
    "- Para trabalhar com datasets desbalanceados, vamos usar a biblioteca imbalanced-learn\n",
    "    - https://imbalanced-learn.org/stable/index.html"
   ]
  },
  {
   "cell_type": "code",
   "execution_count": 1,
   "id": "ad44c263",
   "metadata": {},
   "outputs": [],
   "source": [
    "# Importando a base de transações\n",
    "import pandas as pd\n",
    "base = pd.read_csv('creditcard.csv')"
   ]
  },
  {
   "cell_type": "code",
   "execution_count": 2,
   "id": "990911c6",
   "metadata": {},
   "outputs": [
    {
     "data": {
      "text/html": [
       "<div>\n",
       "<style scoped>\n",
       "    .dataframe tbody tr th:only-of-type {\n",
       "        vertical-align: middle;\n",
       "    }\n",
       "\n",
       "    .dataframe tbody tr th {\n",
       "        vertical-align: top;\n",
       "    }\n",
       "\n",
       "    .dataframe thead th {\n",
       "        text-align: right;\n",
       "    }\n",
       "</style>\n",
       "<table border=\"1\" class=\"dataframe\">\n",
       "  <thead>\n",
       "    <tr style=\"text-align: right;\">\n",
       "      <th></th>\n",
       "      <th>Time</th>\n",
       "      <th>V1</th>\n",
       "      <th>V2</th>\n",
       "      <th>V3</th>\n",
       "      <th>V4</th>\n",
       "      <th>V5</th>\n",
       "      <th>V6</th>\n",
       "      <th>V7</th>\n",
       "      <th>V8</th>\n",
       "      <th>V9</th>\n",
       "      <th>...</th>\n",
       "      <th>V21</th>\n",
       "      <th>V22</th>\n",
       "      <th>V23</th>\n",
       "      <th>V24</th>\n",
       "      <th>V25</th>\n",
       "      <th>V26</th>\n",
       "      <th>V27</th>\n",
       "      <th>V28</th>\n",
       "      <th>Amount</th>\n",
       "      <th>Class</th>\n",
       "    </tr>\n",
       "  </thead>\n",
       "  <tbody>\n",
       "    <tr>\n",
       "      <th>0</th>\n",
       "      <td>0.0</td>\n",
       "      <td>-1.359807</td>\n",
       "      <td>-0.072781</td>\n",
       "      <td>2.536347</td>\n",
       "      <td>1.378155</td>\n",
       "      <td>-0.338321</td>\n",
       "      <td>0.462388</td>\n",
       "      <td>0.239599</td>\n",
       "      <td>0.098698</td>\n",
       "      <td>0.363787</td>\n",
       "      <td>...</td>\n",
       "      <td>-0.018307</td>\n",
       "      <td>0.277838</td>\n",
       "      <td>-0.110474</td>\n",
       "      <td>0.066928</td>\n",
       "      <td>0.128539</td>\n",
       "      <td>-0.189115</td>\n",
       "      <td>0.133558</td>\n",
       "      <td>-0.021053</td>\n",
       "      <td>149.62</td>\n",
       "      <td>0</td>\n",
       "    </tr>\n",
       "    <tr>\n",
       "      <th>1</th>\n",
       "      <td>0.0</td>\n",
       "      <td>1.191857</td>\n",
       "      <td>0.266151</td>\n",
       "      <td>0.166480</td>\n",
       "      <td>0.448154</td>\n",
       "      <td>0.060018</td>\n",
       "      <td>-0.082361</td>\n",
       "      <td>-0.078803</td>\n",
       "      <td>0.085102</td>\n",
       "      <td>-0.255425</td>\n",
       "      <td>...</td>\n",
       "      <td>-0.225775</td>\n",
       "      <td>-0.638672</td>\n",
       "      <td>0.101288</td>\n",
       "      <td>-0.339846</td>\n",
       "      <td>0.167170</td>\n",
       "      <td>0.125895</td>\n",
       "      <td>-0.008983</td>\n",
       "      <td>0.014724</td>\n",
       "      <td>2.69</td>\n",
       "      <td>0</td>\n",
       "    </tr>\n",
       "    <tr>\n",
       "      <th>2</th>\n",
       "      <td>1.0</td>\n",
       "      <td>-1.358354</td>\n",
       "      <td>-1.340163</td>\n",
       "      <td>1.773209</td>\n",
       "      <td>0.379780</td>\n",
       "      <td>-0.503198</td>\n",
       "      <td>1.800499</td>\n",
       "      <td>0.791461</td>\n",
       "      <td>0.247676</td>\n",
       "      <td>-1.514654</td>\n",
       "      <td>...</td>\n",
       "      <td>0.247998</td>\n",
       "      <td>0.771679</td>\n",
       "      <td>0.909412</td>\n",
       "      <td>-0.689281</td>\n",
       "      <td>-0.327642</td>\n",
       "      <td>-0.139097</td>\n",
       "      <td>-0.055353</td>\n",
       "      <td>-0.059752</td>\n",
       "      <td>378.66</td>\n",
       "      <td>0</td>\n",
       "    </tr>\n",
       "  </tbody>\n",
       "</table>\n",
       "<p>3 rows × 31 columns</p>\n",
       "</div>"
      ],
      "text/plain": [
       "   Time        V1        V2        V3        V4        V5        V6        V7  \\\n",
       "0   0.0 -1.359807 -0.072781  2.536347  1.378155 -0.338321  0.462388  0.239599   \n",
       "1   0.0  1.191857  0.266151  0.166480  0.448154  0.060018 -0.082361 -0.078803   \n",
       "2   1.0 -1.358354 -1.340163  1.773209  0.379780 -0.503198  1.800499  0.791461   \n",
       "\n",
       "         V8        V9  ...       V21       V22       V23       V24       V25  \\\n",
       "0  0.098698  0.363787  ... -0.018307  0.277838 -0.110474  0.066928  0.128539   \n",
       "1  0.085102 -0.255425  ... -0.225775 -0.638672  0.101288 -0.339846  0.167170   \n",
       "2  0.247676 -1.514654  ...  0.247998  0.771679  0.909412 -0.689281 -0.327642   \n",
       "\n",
       "        V26       V27       V28  Amount  Class  \n",
       "0 -0.189115  0.133558 -0.021053  149.62      0  \n",
       "1  0.125895 -0.008983  0.014724    2.69      0  \n",
       "2 -0.139097 -0.055353 -0.059752  378.66      0  \n",
       "\n",
       "[3 rows x 31 columns]"
      ]
     },
     "execution_count": 2,
     "metadata": {},
     "output_type": "execute_result"
    }
   ],
   "source": [
    "# Visualizando a base\n",
    "base.head(3)"
   ]
  },
  {
   "cell_type": "code",
   "execution_count": 3,
   "id": "c1a1b9e2",
   "metadata": {},
   "outputs": [],
   "source": [
    "# Separando em X e y\n",
    "X = base.drop('Class',axis=1)\n",
    "y = base.Class"
   ]
  },
  {
   "cell_type": "code",
   "execution_count": 5,
   "id": "239ae6f5",
   "metadata": {},
   "outputs": [
    {
     "data": {
      "image/png": "[encoded data removed]",
      "text/plain": [
       "<Figure size 432x288 with 1 Axes>"
      ]
     },
     "metadata": {},
     "output_type": "display_data"
    }
   ],
   "source": [
    "# Visualizando a proporção dessa base\n",
    "y.value_counts().plot.pie(autopct='%.2f');"
   ]
  },
  {
   "cell_type": "code",
   "execution_count": 6,
   "id": "f42b2910",
   "metadata": {},
   "outputs": [
    {
     "data": {
      "image/png": "[encoded data removed]",
      "text/plain": [
       "<Figure size 432x288 with 1 Axes>"
      ]
     },
     "metadata": {
      "needs_background": "light"
     },
     "output_type": "display_data"
    }
   ],
   "source": [
    "# Visualizando como um gráfico de barras\n",
    "y.value_counts().plot.bar();"
   ]
  },
  {
   "cell_type": "code",
   "execution_count": 10,
   "id": "1240249d",
   "metadata": {},
   "outputs": [
    {
     "data": {
      "text/plain": [
       "0    284315\n",
       "1       492\n",
       "Name: Class, dtype: int64"
      ]
     },
     "execution_count": 10,
     "metadata": {},
     "output_type": "execute_result"
    }
   ],
   "source": [
    "# Contando os valores em cada classe\n",
    "y.value_counts()"
   ]
  },
  {
   "cell_type": "code",
   "execution_count": 8,
   "id": "63fdc145",
   "metadata": {},
   "outputs": [
    {
     "name": "stdout",
     "output_type": "stream",
     "text": [
      "Collecting imbalanced-learn\n",
      "  Downloading imbalanced_learn-0.10.1-py3-none-any.whl (226 kB)\n",
      "Requirement already satisfied: numpy>=1.17.3 in c:\\users\\viniv\\anaconda3\\lib\\site-packages (from imbalanced-learn) (1.20.3)\n",
      "Collecting joblib>=1.1.1\n",
      "  Downloading joblib-1.2.0-py3-none-any.whl (297 kB)\n",
      "Requirement already satisfied: scipy>=1.3.2 in c:\\users\\viniv\\anaconda3\\lib\\site-packages (from imbalanced-learn) (1.7.1)\n",
      "Requirement already satisfied: threadpoolctl>=2.0.0 in c:\\users\\viniv\\anaconda3\\lib\\site-packages (from imbalanced-learn) (2.2.0)\n",
      "Collecting scikit-learn>=1.0.2\n",
      "  Downloading scikit_learn-1.2.1-cp39-cp39-win_amd64.whl (8.4 MB)\n",
      "Installing collected packages: joblib, scikit-learn, imbalanced-learn\n",
      "  Attempting uninstall: joblib\n",
      "    Found existing installation: joblib 1.1.0\n",
      "    Uninstalling joblib-1.1.0:\n",
      "      Successfully uninstalled joblib-1.1.0\n",
      "  Attempting uninstall: scikit-learn\n",
      "    Found existing installation: scikit-learn 0.24.2\n",
      "    Uninstalling scikit-learn-0.24.2:\n",
      "      Successfully uninstalled scikit-learn-0.24.2\n",
      "Successfully installed imbalanced-learn-0.10.1 joblib-1.2.0 scikit-learn-1.2.1\n"
     ]
    }
   ],
   "source": [
    "# Instalando a biblioteca\n",
    "!pip install -U imbalanced-learn"
   ]
  },
  {
   "attachments": {
    "oversampling_undersampling.jpg": {
     "image/jpeg": "[encoded data removed]"
    }
   },
   "cell_type": "markdown",
   "id": "b2085d75",
   "metadata": {},
   "source": [
    "### Como podemos resolver esse problema?\n",
    "- Temos 2 classes:\n",
    "    - Classe **majoritária**: a que possui **mais** registros\n",
    "    - Classe **minoritária**: a que possui **menos** registros\n",
    "\n",
    "![oversampling_undersampling.jpg](attachment:oversampling_undersampling.jpg)"
   ]
  },
  {
   "cell_type": "markdown",
   "id": "2d72491a",
   "metadata": {},
   "source": [
    "### Reduzindo os registros da classe majoritária\n",
    "- Vamos retirar dados da classe que possui mais registros\n",
    "    - Precisamos ter cuidado para que essa retirada não acabe causando perda de  informação (retirando informações que são muito importantes)\n",
    "    - Também é necessário verificar o tamanho da base restante\n",
    "- Podemos começar fazendo isso excluindo registros de forma aleatória"
   ]
  },
  {
   "cell_type": "code",
   "execution_count": 10,
   "id": "bd7a5427",
   "metadata": {},
   "outputs": [],
   "source": [
    "# Importando o RandomUnderSampler do imblearn\n",
    "from imblearn.under_sampling import RandomUnderSampler\n"
   ]
  },
  {
   "cell_type": "code",
   "execution_count": 11,
   "id": "fb5ac25d",
   "metadata": {},
   "outputs": [],
   "source": [
    "# Definindo o RandomUnderSampler\n",
    "rus = RandomUnderSampler(random_state=42)"
   ]
  },
  {
   "cell_type": "code",
   "execution_count": 12,
   "id": "19b59ff9",
   "metadata": {},
   "outputs": [],
   "source": [
    "# Aplicando para X e y\n",
    "X_res, y_res = rus.fit_resample(X, y)"
   ]
  },
  {
   "cell_type": "code",
   "execution_count": 13,
   "id": "c6f28e1f",
   "metadata": {},
   "outputs": [
    {
     "data": {
      "image/png": "[encoded data removed]",
      "text/plain": [
       "<Figure size 432x288 with 1 Axes>"
      ]
     },
     "metadata": {},
     "output_type": "display_data"
    }
   ],
   "source": [
    "# Visualizando graficamente\n",
    "y_res.value_counts().plot.pie(autopct='%.2f');"
   ]
  },
  {
   "cell_type": "code",
   "execution_count": 14,
   "id": "8f39f4d8",
   "metadata": {},
   "outputs": [
    {
     "data": {
      "text/plain": [
       "0    492\n",
       "1    492\n",
       "Name: Class, dtype: int64"
      ]
     },
     "execution_count": 14,
     "metadata": {},
     "output_type": "execute_result"
    }
   ],
   "source": [
    "# Contando os valores em cada classe\n",
    "y_res.value_counts()"
   ]
  },
  {
   "cell_type": "markdown",
   "id": "ddc8329c",
   "metadata": {},
   "source": [
    "### Aumentando os registros da classe minoritária\n",
    "- Duplicando os valores de maneira aleatória\n",
    "    - Precisamos garantir que não vamos ter overfitting por mostrar ao modelo várias vezes os mesmos dados"
   ]
  },
  {
   "cell_type": "code",
   "execution_count": 15,
   "id": "d251add7",
   "metadata": {},
   "outputs": [],
   "source": [
    "# Importando o RandomOverSampler do imblearn\n",
    "from imblearn.over_sampling import RandomOverSampler"
   ]
  },
  {
   "cell_type": "code",
   "execution_count": 16,
   "id": "c65444c3",
   "metadata": {},
   "outputs": [],
   "source": [
    "# Instanciando\n",
    "ros = RandomOverSampler(random_state=42)"
   ]
  },
  {
   "cell_type": "code",
   "execution_count": 17,
   "id": "f793ac8c",
   "metadata": {},
   "outputs": [],
   "source": [
    "# Aplicando para X e y\n",
    "X_res2, y_res2 = ros.fit_resample(X, y)"
   ]
  },
  {
   "cell_type": "code",
   "execution_count": 21,
   "id": "dbf925b6",
   "metadata": {},
   "outputs": [
    {
     "data": {
      "image/png": "[encoded data removed]",
      "text/plain": [
       "<Figure size 432x288 with 1 Axes>"
      ]
     },
     "metadata": {},
     "output_type": "display_data"
    }
   ],
   "source": [
    "# Visualizando graficamente\n",
    "y_res2.value_counts().plot.pie(autopct='%.2f');"
   ]
  },
  {
   "cell_type": "code",
   "execution_count": 19,
   "id": "24e40e7d",
   "metadata": {},
   "outputs": [
    {
     "data": {
      "text/plain": [
       "0    284315\n",
       "1    284315\n",
       "Name: Class, dtype: int64"
      ]
     },
     "execution_count": 19,
     "metadata": {},
     "output_type": "execute_result"
    }
   ],
   "source": [
    "# Contando os valores em cada classe\n",
    "y_res2.value_counts()"
   ]
  },
  {
   "cell_type": "code",
   "execution_count": null,
   "id": "de322b09",
   "metadata": {},
   "outputs": [],
   "source": [
    "# Visualizando graficamente"
   ]
  },
  {
   "cell_type": "code",
   "execution_count": null,
   "id": "93abc8bf",
   "metadata": {},
   "outputs": [],
   "source": [
    "# Plotando os 3 gráficos de barra"
   ]
  },
  {
   "cell_type": "markdown",
   "id": "4513c258",
   "metadata": {},
   "source": [
    "## Métodos de seleção"
   ]
  },
  {
   "cell_type": "code",
   "execution_count": null,
   "id": "bfb0dc42",
   "metadata": {},
   "outputs": [],
   "source": [
    "# Importando a base"
   ]
  },
  {
   "cell_type": "code",
   "execution_count": null,
   "id": "5bb64519",
   "metadata": {},
   "outputs": [],
   "source": [
    "# Visualizando essa base"
   ]
  },
  {
   "cell_type": "code",
   "execution_count": null,
   "id": "9c1ade35",
   "metadata": {},
   "outputs": [],
   "source": [
    "# Contando a quantidade de valores"
   ]
  },
  {
   "cell_type": "code",
   "execution_count": null,
   "id": "07fb0af7",
   "metadata": {},
   "outputs": [],
   "source": [
    "# Visualizando os dados graficamente"
   ]
  },
  {
   "cell_type": "code",
   "execution_count": null,
   "id": "70544dd8",
   "metadata": {},
   "outputs": [],
   "source": [
    "# Visualizando a distribuição dos dados"
   ]
  },
  {
   "cell_type": "markdown",
   "id": "4463a61a",
   "metadata": {},
   "source": [
    "## Undersampling"
   ]
  },
  {
   "cell_type": "markdown",
   "id": "ccacddee",
   "metadata": {},
   "source": [
    "### RandomUnderSampler\n",
    "- Seleciona os valores de maneira aleatória\n",
    "- https://imbalanced-learn.org/stable/references/generated/imblearn.under_sampling.RandomUnderSampler.html#imblearn.under_sampling.RandomUnderSampler"
   ]
  },
  {
   "cell_type": "code",
   "execution_count": null,
   "id": "365e08af",
   "metadata": {},
   "outputs": [],
   "source": [
    "# Separando X e y"
   ]
  },
  {
   "cell_type": "code",
   "execution_count": null,
   "id": "85e4e048",
   "metadata": {},
   "outputs": [],
   "source": [
    "# Definindo o RandomUnderSampler"
   ]
  },
  {
   "cell_type": "code",
   "execution_count": null,
   "id": "2fd1c57c",
   "metadata": {},
   "outputs": [],
   "source": [
    "# Definindo a nova amostra"
   ]
  },
  {
   "cell_type": "code",
   "execution_count": null,
   "id": "06e98f64",
   "metadata": {},
   "outputs": [],
   "source": [
    "# Contando os valores"
   ]
  },
  {
   "cell_type": "code",
   "execution_count": null,
   "id": "c8c2230d",
   "metadata": {},
   "outputs": [],
   "source": [
    "# Verificando a base onde situação = 1"
   ]
  },
  {
   "cell_type": "code",
   "execution_count": null,
   "id": "553c0367",
   "metadata": {},
   "outputs": [],
   "source": [
    "# Verificando X nos índices de 150 a 164"
   ]
  },
  {
   "cell_type": "code",
   "execution_count": null,
   "id": "c21e3737",
   "metadata": {},
   "outputs": [],
   "source": [
    "# Verificando os 15 últimos valores de X_res"
   ]
  },
  {
   "cell_type": "code",
   "execution_count": null,
   "id": "7c554213",
   "metadata": {},
   "outputs": [],
   "source": [
    "# Agora verificando os 15 primeiros valores de X_res"
   ]
  },
  {
   "cell_type": "code",
   "execution_count": null,
   "id": "2491012b",
   "metadata": {},
   "outputs": [],
   "source": [
    "# Verificando quais foram os registros que selecionamos para a amostra"
   ]
  },
  {
   "cell_type": "code",
   "execution_count": null,
   "id": "6ceccb3c",
   "metadata": {},
   "outputs": [],
   "source": [
    "# Guardando em uma variável"
   ]
  },
  {
   "cell_type": "code",
   "execution_count": null,
   "id": "c6479502",
   "metadata": {},
   "outputs": [],
   "source": [
    "# Imprimindo"
   ]
  },
  {
   "cell_type": "code",
   "execution_count": null,
   "id": "4d124c89",
   "metadata": {},
   "outputs": [],
   "source": [
    "# E visualizando graficamente"
   ]
  },
  {
   "cell_type": "markdown",
   "id": "ff31b60d",
   "metadata": {},
   "source": [
    "### ClusterCentroids\n",
    "- Irá gerar novas amostras baseado no KMeans (que veremos em breve)\n",
    "- Vai substituir um conjunto (cluster) de amostras pelo seu \"centróide\"\n",
    "- https://imbalanced-learn.org/stable/references/generated/imblearn.under_sampling.ClusterCentroids.html#imblearn.under_sampling.ClusterCentroids"
   ]
  },
  {
   "cell_type": "code",
   "execution_count": null,
   "id": "b9b81cb2",
   "metadata": {},
   "outputs": [],
   "source": [
    "# Importando"
   ]
  },
  {
   "cell_type": "code",
   "execution_count": null,
   "id": "679be21d",
   "metadata": {},
   "outputs": [],
   "source": [
    "# Definindo o ClusterCentroids"
   ]
  },
  {
   "cell_type": "code",
   "execution_count": null,
   "id": "acdc9796",
   "metadata": {},
   "outputs": [],
   "source": [
    "# Criando a amostra dos dados"
   ]
  },
  {
   "cell_type": "code",
   "execution_count": null,
   "id": "c2fb058f",
   "metadata": {},
   "outputs": [],
   "source": [
    "# Visualizando graficamente"
   ]
  },
  {
   "cell_type": "markdown",
   "id": "825b3d93",
   "metadata": {},
   "source": [
    "### NearMiss\n",
    "- Vai manter os mesmos pontos, porém com um método diferente de seleção\n",
    "- Vai usar o KNN (KNearestNeighbors) para selecionar quais pontos irá manter da amostra, selecionando aqueles com a **menor distância aos pontos da classe minoritária**\n",
    "    - Retira os pontos, mas consegue manter a região de separação entre as classes\n",
    "- https://imbalanced-learn.org/stable/references/generated/imblearn.under_sampling.NearMiss.html#imblearn.under_sampling.NearMiss"
   ]
  },
  {
   "cell_type": "code",
   "execution_count": null,
   "id": "d08eae47",
   "metadata": {},
   "outputs": [],
   "source": [
    "# Fazendo a reamostragem usando o NearMiss"
   ]
  },
  {
   "cell_type": "code",
   "execution_count": null,
   "id": "cef3b433",
   "metadata": {},
   "outputs": [],
   "source": [
    "# Vsualizando graficamente"
   ]
  },
  {
   "cell_type": "markdown",
   "id": "69522c7e",
   "metadata": {},
   "source": [
    "**Existem várias outras formas de fazermos o undersampling e todas elas são explicadas na própria documentação**<br>\n",
    "**https://imbalanced-learn.org/stable/under_sampling.html#**"
   ]
  },
  {
   "cell_type": "markdown",
   "id": "ccde3043",
   "metadata": {},
   "source": [
    "## Oversampling"
   ]
  },
  {
   "cell_type": "markdown",
   "id": "f6286f7f",
   "metadata": {},
   "source": [
    "### RandomOverSampler\n",
    "- Duplica os valores também de maneira aleatória\n",
    "- https://imbalanced-learn.org/stable/references/generated/imblearn.over_sampling.RandomOverSampler.html#imblearn.over_sampling.RandomOverSampler"
   ]
  },
  {
   "cell_type": "code",
   "execution_count": null,
   "id": "a6c56198",
   "metadata": {},
   "outputs": [],
   "source": [
    "# Importando"
   ]
  },
  {
   "cell_type": "code",
   "execution_count": null,
   "id": "0ed2d2b4",
   "metadata": {},
   "outputs": [],
   "source": [
    "# Definindo o ros"
   ]
  },
  {
   "cell_type": "code",
   "execution_count": null,
   "id": "73880211",
   "metadata": {},
   "outputs": [],
   "source": [
    "# Refazendo nossa amostra"
   ]
  },
  {
   "cell_type": "code",
   "execution_count": null,
   "id": "7450e2e1",
   "metadata": {},
   "outputs": [],
   "source": [
    "# Contando os valores"
   ]
  },
  {
   "cell_type": "code",
   "execution_count": null,
   "id": "ebbce009",
   "metadata": {},
   "outputs": [],
   "source": [
    "# Sendo a base de Situação = 1"
   ]
  },
  {
   "cell_type": "code",
   "execution_count": null,
   "id": "cdd192f4",
   "metadata": {},
   "outputs": [],
   "source": [
    "# Podemos ver quantas vezes essa primeira linha foi duplicada"
   ]
  },
  {
   "cell_type": "code",
   "execution_count": null,
   "id": "50c028f5",
   "metadata": {},
   "outputs": [],
   "source": [
    "# E, para visualizar, percorrer todas as linhas"
   ]
  },
  {
   "cell_type": "markdown",
   "id": "51a923b8",
   "metadata": {},
   "source": [
    "**Se a repetição dos dados for um problema, podemos utilizar o parâmetro `shrinkage`**\n",
    "- Quando o parâmetro for passado, ele vai gerar uma \"suavização\" nos dados"
   ]
  },
  {
   "cell_type": "code",
   "execution_count": null,
   "id": "329d171e",
   "metadata": {},
   "outputs": [],
   "source": [
    "# Visualizando de forma ordenada os valores da base"
   ]
  },
  {
   "cell_type": "code",
   "execution_count": null,
   "id": "f4c443f6",
   "metadata": {},
   "outputs": [],
   "source": [
    "# Visualizando todos os valores do X_res"
   ]
  },
  {
   "cell_type": "code",
   "execution_count": null,
   "id": "f887ff5b",
   "metadata": {},
   "outputs": [],
   "source": [
    "# Vsualizando graficamente"
   ]
  },
  {
   "attachments": {
    "smote_adasyn-2.png": {
     "image/png": "[encoded data removed]"
    }
   },
   "cell_type": "markdown",
   "id": "f9f9c381",
   "metadata": {},
   "source": [
    "### SMOTE e ADASYN\n",
    "- Ao invés de duplicar os valores, serão geradas novas amostras utilizando o KNN\n",
    "- Sendo os 3 vizinhos mais próximos de Xi mostrados na figura, é selecionado um desses vizinhos e o novo ponto de dado é definido em uma distância aleatória entre Xi e o vizinho selecionado\n",
    "![smote_adasyn-2.png](attachment:smote_adasyn-2.png)\n",
    "- A principal diferença do ADASYN é que ele vai **gerar mais observações para aqueles pontos da classe minoritária que tiverem mais observações da classe majoritária na região dos vizinhos mais próximos**, já se não tiver nenhuma observação da classe majoritária nos vizinhos mais próximos ele não irá gerar nenhum ponto"
   ]
  },
  {
   "cell_type": "code",
   "execution_count": null,
   "id": "db0eb546",
   "metadata": {},
   "outputs": [],
   "source": [
    "# Utilizando o SMOTE"
   ]
  },
  {
   "cell_type": "code",
   "execution_count": null,
   "id": "2f0043a1",
   "metadata": {},
   "outputs": [],
   "source": [
    "# Vsualizando graficamente"
   ]
  },
  {
   "cell_type": "code",
   "execution_count": null,
   "id": "f425b622",
   "metadata": {},
   "outputs": [],
   "source": [
    "# Utilizando ADASYN"
   ]
  },
  {
   "cell_type": "code",
   "execution_count": null,
   "id": "82d12b56",
   "metadata": {
    "scrolled": true
   },
   "outputs": [],
   "source": [
    "# Vsualizando graficamente"
   ]
  },
  {
   "cell_type": "markdown",
   "id": "c44524dc",
   "metadata": {},
   "source": [
    "**Também existem várias outras formas de fazermos o oversampling e todas elas são explicadas na própria documentação**<br>\n",
    "**https://imbalanced-learn.org/stable/over_sampling.html**"
   ]
  }
 ],
 "metadata": {
  "kernelspec": {
   "display_name": "Python 3 (ipykernel)",
   "language": "python",
   "name": "python3"
  },
  "language_info": {
   "codemirror_mode": {
    "name": "ipython",
    "version": 3
   },
   "file_extension": ".py",
   "mimetype": "text/x-python",
   "name": "python",
   "nbconvert_exporter": "python",
   "pygments_lexer": "ipython3",
   "version": "3.9.7"
  }
 },
 "nbformat": 4,
 "nbformat_minor": 5
}
