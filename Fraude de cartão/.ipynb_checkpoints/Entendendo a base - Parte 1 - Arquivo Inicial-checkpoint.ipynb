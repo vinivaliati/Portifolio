{
 "cells": [
  {
   "cell_type": "markdown",
   "id": "cd9ab5e9",
   "metadata": {},
   "source": [
    "# Criando um modelo de identificação de fraudes\n",
    "- https://www.kaggle.com/datasets/mlg-ulb/creditcardfraud\n",
    "- Esse dataset está disponível no link abaixo:\n",
    "    - \n",
    "- Informações da base:\n",
    "    - 'Time' (tempo): contém os segundos decorridos entre cada transação e a primeira transação no conjunto de dados. \n",
    "    - 'Amount' (valor): é o valor da transação \n",
    "    - 'Class' (classe): é a variável de resposta e assume valor 1 em caso de fraude e 0 caso contrário.\n",
    "    - \"Infelizmente, devido a questões de confidencialidade, não podemos fornecer os recursos originais e mais informações básicas sobre os dados. Características V1, V2, … V28 são os principais componentes obtidos com PCA\""
   ]
  },
  {
   "cell_type": "code",
   "execution_count": null,
   "id": "e98ea38d",
   "metadata": {},
   "outputs": [],
   "source": [
    "# Importando o pandas"
   ]
  },
  {
   "cell_type": "code",
   "execution_count": null,
   "id": "48a87d30",
   "metadata": {},
   "outputs": [],
   "source": [
    "# Importando a base"
   ]
  },
  {
   "cell_type": "code",
   "execution_count": null,
   "id": "2738720c",
   "metadata": {},
   "outputs": [],
   "source": [
    "# Visualizando a base"
   ]
  },
  {
   "cell_type": "code",
   "execution_count": null,
   "id": "e1e227ab",
   "metadata": {},
   "outputs": [],
   "source": [
    "# Verificando as informações"
   ]
  },
  {
   "cell_type": "code",
   "execution_count": null,
   "id": "2043a571",
   "metadata": {},
   "outputs": [],
   "source": [
    "# E também o resumo estatístico"
   ]
  },
  {
   "cell_type": "code",
   "execution_count": null,
   "id": "af5aa654",
   "metadata": {},
   "outputs": [],
   "source": [
    "# Verificando também se existem valores nulos"
   ]
  },
  {
   "cell_type": "markdown",
   "id": "b86b592d",
   "metadata": {},
   "source": [
    "**Qual o percentual de transações que são fraudes?**"
   ]
  },
  {
   "cell_type": "code",
   "execution_count": null,
   "id": "eeac1e4d",
   "metadata": {},
   "outputs": [],
   "source": [
    "# Verificando visualmente o % de transações que são fraude"
   ]
  },
  {
   "cell_type": "markdown",
   "id": "afb0eafa",
   "metadata": {},
   "source": [
    "### Criando um modelo de aprendizado de máquinas para identificar fraude\n",
    "- Vamos criar um modelo para identificar fraude sem fazer nenhum tratamento nessa base"
   ]
  },
  {
   "cell_type": "code",
   "execution_count": null,
   "id": "0e802866",
   "metadata": {},
   "outputs": [],
   "source": [
    "# Separando X e y"
   ]
  },
  {
   "cell_type": "code",
   "execution_count": null,
   "id": "68d68605",
   "metadata": {},
   "outputs": [],
   "source": [
    "# Separando em treino e teste"
   ]
  },
  {
   "cell_type": "code",
   "execution_count": null,
   "id": "4acf3a55",
   "metadata": {},
   "outputs": [],
   "source": [
    "# Verificando a distribuição das duas classes na base de treino e teste"
   ]
  },
  {
   "cell_type": "code",
   "execution_count": null,
   "id": "db17403c",
   "metadata": {},
   "outputs": [],
   "source": [
    "# Para a base de teste"
   ]
  },
  {
   "cell_type": "code",
   "execution_count": null,
   "id": "bea45a2b",
   "metadata": {},
   "outputs": [],
   "source": [
    "# Importando a árvore de decisão"
   ]
  },
  {
   "cell_type": "code",
   "execution_count": null,
   "id": "a9c438c0",
   "metadata": {},
   "outputs": [],
   "source": [
    "# Definindo o nosso classificador"
   ]
  },
  {
   "cell_type": "code",
   "execution_count": null,
   "id": "50809ed5",
   "metadata": {},
   "outputs": [],
   "source": [
    "# Fazendo o fit para os dados de treino"
   ]
  },
  {
   "cell_type": "code",
   "execution_count": null,
   "id": "124e7d4a",
   "metadata": {},
   "outputs": [],
   "source": [
    "# Fazendo a previsão"
   ]
  },
  {
   "cell_type": "code",
   "execution_count": null,
   "id": "970f7384",
   "metadata": {},
   "outputs": [],
   "source": [
    "# Importando a acurácia"
   ]
  },
  {
   "cell_type": "code",
   "execution_count": null,
   "id": "67b230b9",
   "metadata": {},
   "outputs": [],
   "source": [
    "# Calculando a acurácia"
   ]
  },
  {
   "cell_type": "markdown",
   "id": "fa572441",
   "metadata": {},
   "source": [
    "**Verificando agora a matriz de confusão, a precisão e o recall**"
   ]
  },
  {
   "cell_type": "code",
   "execution_count": null,
   "id": "c4f6a0aa",
   "metadata": {},
   "outputs": [],
   "source": [
    "# Importando a matriz de confusão"
   ]
  },
  {
   "cell_type": "code",
   "execution_count": null,
   "id": "9922f627",
   "metadata": {},
   "outputs": [],
   "source": [
    "# Visualizando a matriz de confusão"
   ]
  },
  {
   "cell_type": "code",
   "execution_count": null,
   "id": "e59f6deb",
   "metadata": {},
   "outputs": [],
   "source": [
    "# Calculando a precisão"
   ]
  },
  {
   "cell_type": "code",
   "execution_count": null,
   "id": "27fc10ec",
   "metadata": {},
   "outputs": [],
   "source": [
    "# E o recall"
   ]
  }
 ],
 "metadata": {
  "kernelspec": {
   "display_name": "Python 3 (ipykernel)",
   "language": "python",
   "name": "python3"
  },
  "language_info": {
   "codemirror_mode": {
    "name": "ipython",
    "version": 3
   },
   "file_extension": ".py",
   "mimetype": "text/x-python",
   "name": "python",
   "nbconvert_exporter": "python",
   "pygments_lexer": "ipython3",
   "version": "3.9.7"
  }
 },
 "nbformat": 4,
 "nbformat_minor": 5
}
