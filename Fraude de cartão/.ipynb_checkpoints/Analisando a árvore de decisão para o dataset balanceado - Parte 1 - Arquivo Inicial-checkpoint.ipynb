{
 "cells": [
  {
   "cell_type": "markdown",
   "id": "7fd654e5",
   "metadata": {},
   "source": [
    "# Criando um modelo de identificação de fraudes\n",
    "- https://www.kaggle.com/datasets/mlg-ulb/creditcardfraud\n",
    "- Informações da base:\n",
    "    - 'Time' (tempo): contém os segundos decorridos entre cada transação e a primeira transação no conjunto de dados. \n",
    "    - 'Amount' (valor): é o valor da transação \n",
    "    - 'Class' (classe): é a variável de resposta e assume valor 1 em caso de fraude e 0 caso contrário.\n",
    "    - \"Infelizmente, devido a questões de confidencialidade, não podemos fornecer os recursos originais e mais informações básicas sobre os dados. Características V1, V2, … V28 são os principais componentes obtidos com PCA\""
   ]
  },
  {
   "cell_type": "code",
   "execution_count": null,
   "id": "3b795bce",
   "metadata": {},
   "outputs": [],
   "source": [
    "# Importando o pandas\n",
    "import pandas as pd"
   ]
  },
  {
   "cell_type": "code",
   "execution_count": null,
   "id": "304c245c",
   "metadata": {},
   "outputs": [],
   "source": [
    "# Importando a base\n",
    "transacoes = pd.read_csv('creditcard.csv')"
   ]
  },
  {
   "cell_type": "code",
   "execution_count": null,
   "id": "b460a400",
   "metadata": {},
   "outputs": [],
   "source": [
    "# Visualizando a base\n",
    "transacoes.head(3)"
   ]
  },
  {
   "cell_type": "code",
   "execution_count": null,
   "id": "f9caeb31",
   "metadata": {},
   "outputs": [],
   "source": [
    "# Verificando as informações\n",
    "transacoes.info()"
   ]
  },
  {
   "cell_type": "code",
   "execution_count": null,
   "id": "b91e864f",
   "metadata": {},
   "outputs": [],
   "source": [
    "# E também o resumo estatístico\n",
    "transacoes.describe()"
   ]
  },
  {
   "cell_type": "code",
   "execution_count": null,
   "id": "996fa139",
   "metadata": {},
   "outputs": [],
   "source": [
    "# Verificando também se existem valores nulos\n",
    "transacoes.isnull().sum()"
   ]
  },
  {
   "cell_type": "markdown",
   "id": "7fdeb488",
   "metadata": {},
   "source": [
    "**Qual o percentual de transações que são fraudes?**"
   ]
  },
  {
   "cell_type": "code",
   "execution_count": null,
   "id": "ac55a3e0",
   "metadata": {},
   "outputs": [],
   "source": [
    "# Verificando visualmente o % de transações que são fraude\n",
    "transacoes.Class.value_counts().plot.pie(autopct='%.2f');"
   ]
  },
  {
   "cell_type": "markdown",
   "id": "68b6e5ae",
   "metadata": {},
   "source": [
    "### Criando um modelo de aprendizado de máquinas para identificar fraude\n",
    "- Vamos criar um modelo para identificar fraude sem fazer nenhum tratamento nessa base"
   ]
  },
  {
   "cell_type": "code",
   "execution_count": null,
   "id": "0d52495a",
   "metadata": {},
   "outputs": [],
   "source": [
    "# Separando X e y\n",
    "X = transacoes.drop('Class',axis=1)\n",
    "y = transacoes.Class"
   ]
  },
  {
   "cell_type": "code",
   "execution_count": null,
   "id": "0be680f1",
   "metadata": {},
   "outputs": [],
   "source": [
    "# Separando em treino e teste\n",
    "from sklearn.model_selection import train_test_split\n",
    "X_train, X_test, y_train, y_test = train_test_split(X, y, test_size=0.33, random_state=42,stratify=y)"
   ]
  },
  {
   "cell_type": "code",
   "execution_count": null,
   "id": "d8e08b70",
   "metadata": {},
   "outputs": [],
   "source": [
    "# Verificando a distribuição das duas classes na base de treino e teste\n",
    "y_train.value_counts()/y_train.shape[0]"
   ]
  },
  {
   "cell_type": "code",
   "execution_count": null,
   "id": "13b51cd7",
   "metadata": {},
   "outputs": [],
   "source": [
    "# Para a base de teste\n",
    "y_test.value_counts()/y_test.shape[0]"
   ]
  },
  {
   "cell_type": "code",
   "execution_count": null,
   "id": "cf699a61",
   "metadata": {},
   "outputs": [],
   "source": [
    "y_test.value_counts()"
   ]
  },
  {
   "cell_type": "code",
   "execution_count": null,
   "id": "c02b91ce",
   "metadata": {},
   "outputs": [],
   "source": [
    "# Importando a árvore de decisão\n",
    "from sklearn import tree"
   ]
  },
  {
   "cell_type": "code",
   "execution_count": null,
   "id": "0fe888b1",
   "metadata": {},
   "outputs": [],
   "source": [
    "# Definindo o nosso classificador\n",
    "clf = tree.DecisionTreeClassifier(random_state=42)"
   ]
  },
  {
   "cell_type": "code",
   "execution_count": null,
   "id": "d7824c1d",
   "metadata": {},
   "outputs": [],
   "source": [
    "# Fazendo o fit para os dados de treino\n",
    "clf = clf.fit(X_train, y_train)"
   ]
  },
  {
   "cell_type": "code",
   "execution_count": null,
   "id": "cda4e338",
   "metadata": {},
   "outputs": [],
   "source": [
    "# Fazendo a previsão\n",
    "y_pred = clf.predict(X_test)"
   ]
  },
  {
   "cell_type": "code",
   "execution_count": null,
   "id": "81769381",
   "metadata": {},
   "outputs": [],
   "source": [
    "# Importando a acurácia\n",
    "from sklearn.metrics import accuracy_score"
   ]
  },
  {
   "cell_type": "code",
   "execution_count": null,
   "id": "d4be743d",
   "metadata": {},
   "outputs": [],
   "source": [
    "# Calculando a acurácia\n",
    "accuracy_score(y_test,y_pred)"
   ]
  },
  {
   "cell_type": "markdown",
   "id": "a3be4887",
   "metadata": {},
   "source": [
    "**Verificando agora a matriz de confusão, a precisão e o recall**"
   ]
  },
  {
   "cell_type": "code",
   "execution_count": null,
   "id": "f0bbd387",
   "metadata": {},
   "outputs": [],
   "source": [
    "# Importando a matriz de confusão\n",
    "from sklearn.metrics import confusion_matrix"
   ]
  },
  {
   "cell_type": "code",
   "execution_count": null,
   "id": "63e8b180",
   "metadata": {},
   "outputs": [],
   "source": [
    "# Visualizando a matriz de confusão\n",
    "confusion_matrix(y_test,y_pred)"
   ]
  },
  {
   "cell_type": "code",
   "execution_count": null,
   "id": "0e8c32ae",
   "metadata": {},
   "outputs": [],
   "source": [
    "# Calculando a precisão\n",
    "from sklearn.metrics import precision_score\n",
    "precision_score(y_test,y_pred)"
   ]
  },
  {
   "cell_type": "code",
   "execution_count": null,
   "id": "8b079131",
   "metadata": {},
   "outputs": [],
   "source": [
    "# E o recall\n",
    "from sklearn.metrics import recall_score\n",
    "recall_score(y_test,y_pred)"
   ]
  },
  {
   "cell_type": "markdown",
   "id": "3b96babf",
   "metadata": {},
   "source": [
    "## Selecionando de forma aleatória"
   ]
  },
  {
   "cell_type": "markdown",
   "id": "d04d2d1b",
   "metadata": {},
   "source": [
    "#### Realizando o random undersampling"
   ]
  },
  {
   "cell_type": "code",
   "execution_count": null,
   "id": "1003e50d",
   "metadata": {},
   "outputs": [],
   "source": [
    "# Importando o RandomUnderSampler do imblearn"
   ]
  },
  {
   "cell_type": "code",
   "execution_count": null,
   "id": "34448390",
   "metadata": {},
   "outputs": [],
   "source": [
    "# Definindo o RandomUnderSampler"
   ]
  },
  {
   "cell_type": "code",
   "execution_count": null,
   "id": "26969cba",
   "metadata": {},
   "outputs": [],
   "source": [
    "# Definindo a nova amostra"
   ]
  },
  {
   "cell_type": "code",
   "execution_count": null,
   "id": "af6ad922",
   "metadata": {},
   "outputs": [],
   "source": [
    "# Verificando a quantidade de valores de y"
   ]
  },
  {
   "cell_type": "code",
   "execution_count": null,
   "id": "497c4979",
   "metadata": {},
   "outputs": [],
   "source": [
    "# Fazendo o fit para os dados de treino já balanceados"
   ]
  },
  {
   "cell_type": "code",
   "execution_count": null,
   "id": "8fadf246",
   "metadata": {},
   "outputs": [],
   "source": [
    "# Fazendo a previsão para os dados de teste"
   ]
  },
  {
   "cell_type": "code",
   "execution_count": null,
   "id": "9c4db6db",
   "metadata": {},
   "outputs": [],
   "source": [
    "# Calculando a acurácia"
   ]
  },
  {
   "cell_type": "code",
   "execution_count": null,
   "id": "0c77a43c",
   "metadata": {},
   "outputs": [],
   "source": [
    "# Visualizando a matriz de confusão"
   ]
  },
  {
   "cell_type": "markdown",
   "id": "679e4ffc",
   "metadata": {},
   "source": [
    "#### Realizando o random oversampling"
   ]
  },
  {
   "cell_type": "code",
   "execution_count": null,
   "id": "15239086",
   "metadata": {},
   "outputs": [],
   "source": [
    "# Importando"
   ]
  },
  {
   "cell_type": "code",
   "execution_count": null,
   "id": "b3f390f3",
   "metadata": {},
   "outputs": [],
   "source": [
    "# Definindo o ros"
   ]
  },
  {
   "cell_type": "code",
   "execution_count": null,
   "id": "b50c987c",
   "metadata": {},
   "outputs": [],
   "source": [
    "# Refazendo nossa amostra"
   ]
  },
  {
   "cell_type": "code",
   "execution_count": null,
   "id": "651e523b",
   "metadata": {},
   "outputs": [],
   "source": [
    "# Fazendo o fit para os dados de treino já balanceados"
   ]
  },
  {
   "cell_type": "code",
   "execution_count": null,
   "id": "cbdc8064",
   "metadata": {},
   "outputs": [],
   "source": [
    "# Fazendo a previsão para os dados de teste"
   ]
  },
  {
   "cell_type": "code",
   "execution_count": null,
   "id": "cba510b2",
   "metadata": {},
   "outputs": [],
   "source": [
    "# Calculando a acurácia"
   ]
  },
  {
   "cell_type": "code",
   "execution_count": null,
   "id": "ad08d4d6",
   "metadata": {},
   "outputs": [],
   "source": [
    "# Visualizando a matriz de confusão"
   ]
  },
  {
   "cell_type": "markdown",
   "id": "15bfb787",
   "metadata": {},
   "source": [
    "## Usando outras formas de undersampling"
   ]
  },
  {
   "cell_type": "markdown",
   "id": "95daf7bd",
   "metadata": {},
   "source": [
    "#### ClusterCentroids"
   ]
  },
  {
   "cell_type": "code",
   "execution_count": null,
   "id": "bd934a3e",
   "metadata": {},
   "outputs": [],
   "source": [
    "# Importando o ClusterCentroids"
   ]
  },
  {
   "cell_type": "code",
   "execution_count": null,
   "id": "b525cbc6",
   "metadata": {},
   "outputs": [],
   "source": [
    "# Definindo"
   ]
  },
  {
   "cell_type": "code",
   "execution_count": null,
   "id": "9efb0c0b",
   "metadata": {},
   "outputs": [],
   "source": [
    "# Criando a amostra dos dados"
   ]
  },
  {
   "cell_type": "code",
   "execution_count": null,
   "id": "b6bf5789",
   "metadata": {},
   "outputs": [],
   "source": [
    "# Fazendo o fit para os dados de treino já balanceados\n",
    "\n",
    "# Fazendo a previsão para os dados de teste\n",
    "\n",
    "# Visualizando a matriz de confusão"
   ]
  },
  {
   "cell_type": "markdown",
   "id": "678c2252",
   "metadata": {},
   "source": [
    "#### NearMiss"
   ]
  },
  {
   "cell_type": "code",
   "execution_count": null,
   "id": "2863d1c4",
   "metadata": {},
   "outputs": [],
   "source": [
    "# Fazendo a reamostragem usando o NearMiss"
   ]
  },
  {
   "cell_type": "code",
   "execution_count": null,
   "id": "b27c3c1e",
   "metadata": {},
   "outputs": [],
   "source": [
    "# Fazendo o fit para os dados de treino já balanceados\n",
    "\n",
    "# Fazendo a previsão para os dados de teste\n",
    "\n",
    "# Visualizando a matriz de confusão"
   ]
  },
  {
   "cell_type": "markdown",
   "id": "e9c42fa0",
   "metadata": {},
   "source": [
    "## E outras formas de oversampling"
   ]
  },
  {
   "cell_type": "markdown",
   "id": "4115dcbe",
   "metadata": {},
   "source": [
    "#### Mudando os parâmetros do random oversampling"
   ]
  },
  {
   "cell_type": "code",
   "execution_count": null,
   "id": "4ae9b4af",
   "metadata": {},
   "outputs": [],
   "source": [
    "# Definindo o ros com shrinkage\n",
    "\n",
    "# Refazendo nossa amostra"
   ]
  },
  {
   "cell_type": "code",
   "execution_count": null,
   "id": "e1e077cf",
   "metadata": {},
   "outputs": [],
   "source": [
    "# Fazendo o fit para os dados de treino já balanceados\n",
    "\n",
    "# Fazendo a previsão para os dados de teste\n",
    "\n",
    "# Visualizando a matriz de confusão"
   ]
  },
  {
   "cell_type": "markdown",
   "id": "518260ca",
   "metadata": {},
   "source": [
    "#### SMOTE"
   ]
  },
  {
   "cell_type": "code",
   "execution_count": null,
   "id": "615e2eee",
   "metadata": {},
   "outputs": [],
   "source": [
    "# Utilizando o SMOTE"
   ]
  },
  {
   "cell_type": "code",
   "execution_count": null,
   "id": "59d17d41",
   "metadata": {},
   "outputs": [],
   "source": [
    "# Fazendo o fit para os dados de treino já balanceados\n",
    "\n",
    "# Fazendo a previsão para os dados de teste\n",
    "\n",
    "# Visualizando a matriz de confusão"
   ]
  },
  {
   "cell_type": "markdown",
   "id": "6ca4bf44",
   "metadata": {},
   "source": [
    "#### ADASYN"
   ]
  },
  {
   "cell_type": "code",
   "execution_count": null,
   "id": "97c6c91b",
   "metadata": {},
   "outputs": [],
   "source": [
    "# Utilizando ADASYN"
   ]
  },
  {
   "cell_type": "code",
   "execution_count": null,
   "id": "a366b77c",
   "metadata": {},
   "outputs": [],
   "source": [
    "# Fazendo o fit para os dados de treino já balanceados\n",
    "\n",
    "# Fazendo a previsão para os dados de teste\n",
    "\n",
    "# Visualizando a matriz de confusão"
   ]
  },
  {
   "cell_type": "markdown",
   "id": "921af5b9",
   "metadata": {},
   "source": [
    "## Combinando os métodos"
   ]
  },
  {
   "cell_type": "code",
   "execution_count": null,
   "id": "cab7496a",
   "metadata": {},
   "outputs": [],
   "source": [
    "# Utilizando o SMOTEENN"
   ]
  },
  {
   "cell_type": "code",
   "execution_count": null,
   "id": "4b100377",
   "metadata": {},
   "outputs": [],
   "source": [
    "# Fazendo o fit para os dados de treino já balanceados\n",
    "\n",
    "# Fazendo a previsão para os dados de teste\n",
    "\n",
    "# Visualizando a matriz de confusão"
   ]
  }
 ],
 "metadata": {
  "kernelspec": {
   "display_name": "Python 3 (ipykernel)",
   "language": "python",
   "name": "python3"
  },
  "language_info": {
   "codemirror_mode": {
    "name": "ipython",
    "version": 3
   },
   "file_extension": ".py",
   "mimetype": "text/x-python",
   "name": "python",
   "nbconvert_exporter": "python",
   "pygments_lexer": "ipython3",
   "version": "3.9.7"
  }
 },
 "nbformat": 4,
 "nbformat_minor": 5
}
